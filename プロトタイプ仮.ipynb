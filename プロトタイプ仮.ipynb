{
 "cells": [
  {
   "cell_type": "code",
   "execution_count": null,
   "metadata": {
    "executionInfo": {
     "elapsed": 86189,
     "status": "ok",
     "timestamp": 1752042144551,
     "user": {
      "displayName": "筧田仁悠",
      "userId": "09660095884787848289"
     },
     "user_tz": -540
    },
    "id": "oya1RSveHF2B"
   },
   "outputs": [],
   "source": [
    "# 各種インポート\n",
    "# %%capture\n",
    "# !pip install transformers\n",
    "# !pip install sentencepiece\n",
    "# !pip install fugashi unidic-lite\n",
    "# !pip install ipadic\n",
    "# !pip install torch torchvision torchaudio --index-url https://download.pytorch.org/whl/cpu\"\n"
   ]
  },
  {
   "cell_type": "code",
   "execution_count": null,
   "metadata": {
    "colab": {
     "base_uri": "https://localhost:8080/"
    },
    "executionInfo": {
     "elapsed": 25,
     "status": "ok",
     "timestamp": 1752042144587,
     "user": {
      "displayName": "筧田仁悠",
      "userId": "09660095884787848289"
     },
     "user_tz": -540
    },
    "id": "w5bQXKn8IkN_",
    "outputId": "ed42a52d-f123-4ac9-f68f-ae648f51cee7"
   },
   "outputs": [
    {
     "name": "stdout",
     "output_type": "stream",
     "text": [
      "safe.txt を作成しました。\n",
      "out.txt を作成しました。\n",
      "different_sim.txt を作成しました。\n"
     ]
    }
   ],
   "source": []
  },
  {
   "cell_type": "code",
   "execution_count": null,
   "metadata": {
    "executionInfo": {
     "elapsed": 19,
     "status": "ok",
     "timestamp": 1752042144609,
     "user": {
      "displayName": "筧田仁悠",
      "userId": "09660095884787848289"
     },
     "user_tz": -540
    },
    "id": "VEYDt2w4IlSz"
   },
   "outputs": [],
   "source": []
  },
  {
   "cell_type": "code",
   "execution_count": null,
   "metadata": {
    "executionInfo": {
     "elapsed": 90825,
     "status": "ok",
     "timestamp": 1752042529439,
     "user": {
      "displayName": "筧田仁悠",
      "userId": "09660095884787848289"
     },
     "user_tz": -540
    },
    "id": "e99vVq4yYl-o"
   },
   "outputs": [],
   "source": []
  },
  {
   "cell_type": "code",
   "execution_count": 4,
   "metadata": {
    "executionInfo": {
     "elapsed": 7,
     "status": "ok",
     "timestamp": 1752042144632,
     "user": {
      "displayName": "筧田仁悠",
      "userId": "09660095884787848289"
     },
     "user_tz": -540
    },
    "id": "Ki9D7zJtSU3U"
   },
   "outputs": [],
   "source": []
  },
  {
   "cell_type": "code",
   "execution_count": null,
   "metadata": {
    "colab": {
     "base_uri": "https://localhost:8080/"
    },
    "executionInfo": {
     "elapsed": 32627,
     "status": "ok",
     "timestamp": 1752042570722,
     "user": {
      "displayName": "筧田仁悠",
      "userId": "09660095884787848289"
     },
     "user_tz": -540
    },
    "id": "aE2gkVdvmwRX",
    "outputId": "29139d4f-75e3-4e97-dd4b-c1c4c4d6f9eb"
   },
   "outputs": [
    {
     "name": "stdout",
     "output_type": "stream",
     "text": [
      "判定したいテキストを入力して下さい：地球温暖化とかさいこー\n",
      "フォロワー数：100\n",
      "似ている文：日本社会は変わらなすぎる、類似度：0.75152385\n",
      "インプレッション数：7136、リポスト数：168、いいね数：286\n",
      "判定：OUT、バズスコア：30\n",
      "あなたの判定は？(safe/out):safe\n"
     ]
    }
   ],
   "source": []
  }
 ],
 "metadata": {
  "colab": {
   "authorship_tag": "ABX9TyO8SiXZPn0Hy5HCxbPKPm0e",
   "provenance": []
  },
  "kernelspec": {
   "display_name": "Python 3",
   "name": "python3"
  },
  "language_info": {
   "name": "python"
  }
 },
 "nbformat": 4,
 "nbformat_minor": 0
}
